{
 "cells": [
  {
   "cell_type": "code",
   "execution_count": 1,
   "metadata": {},
   "outputs": [],
   "source": [
    "# Loading packages\n",
    "\n",
    "import urllib3\n",
    "import wget\n",
    "import zipfile\n"
   ]
  },
  {
   "cell_type": "code",
   "execution_count": 7,
   "metadata": {},
   "outputs": [],
   "source": [
    "# Destination path\n",
    "dest_path = \"C:\\\\Users\\\\sabrina.franca\\\\Documents\\\\tcc\\\\cleaning_data\\\\\""
   ]
  },
  {
   "cell_type": "code",
   "execution_count": 5,
   "metadata": {},
   "outputs": [],
   "source": [
    "# Function: get the data file in zip formation on website\n",
    "\n",
    "def get_data (url, file, filezip):\n",
    "\n",
    "    # generating a connection to perform a GET request on the website\n",
    "    url = url\n",
    "    conexao = urllib3.PoolManager()\n",
    "   # retorno = conexao.request('GET',url)\n",
    "\n",
    "    # downloading data in zip file\n",
    "    wget.download(file , dest_path)\n",
    "\n",
    "    # showing file names in zip file\n",
    "    z = zipfile.ZipFile(dest_path + filezip)\n",
    "    return(z.namelist())\n"
   ]
  },
  {
   "cell_type": "code",
   "execution_count": 8,
   "metadata": {},
   "outputs": [
    {
     "data": {
      "text/plain": [
       "['AGSN_2019.ods',\n",
       " 'AGSN_2019.xlsx',\n",
       " 'Estado_AGSN.ods',\n",
       " 'Estado_AGSN.xlsx',\n",
       " 'Municipios_AGSN.ods',\n",
       " 'Municipios_AGSN.xlsx',\n",
       " 'Regiao_AGSN.ods',\n",
       " 'Regiao_AGSN.xlsx',\n",
       " 'Regiao_MS_AGSN.ods',\n",
       " 'Regiao_MS_AGSN.xlsx']"
      ]
     },
     "execution_count": 8,
     "metadata": {},
     "output_type": "execute_result"
    }
   ],
   "source": [
    "## Collecting data: Aglomerados subnormais (IBGE, 2019) \n",
    "\n",
    "get_data('https://www.ibge.gov.br/geociencias/organizacao-do-territorio/tipologias-do-territorio/15788-aglomerados-subnormais.html?=&t=acesso-ao-produto',\n",
    "\"https://geoftp.ibge.gov.br/organizacao_do_territorio/tipologias_do_territorio/aglomerados_subnormais/resultados_preliminares_2019/base_tabular_20200519_110000.zip\",\n",
    "\"base_tabular_20200519_110000.zip\")"
   ]
  },
  {
   "cell_type": "code",
   "execution_count": 10,
   "metadata": {},
   "outputs": [
    {
     "data": {
      "text/plain": [
       "'C:\\\\Users\\\\sabrina.franca\\\\Documents\\\\tcc\\\\cleaning_data\\\\Municipios_AGSN.xlsx'"
      ]
     },
     "execution_count": 10,
     "metadata": {},
     "output_type": "execute_result"
    }
   ],
   "source": [
    "# unzipping the files\n",
    "zipfile.ZipFile(dest_path + \"base_tabular_20200519_110000.zip\").extract('AGSN_2019.xlsx',dest_path)\n",
    "zipfile.ZipFile(dest_path + \"base_tabular_20200519_110000.zip\").extract('Estado_AGSN.xlsx',dest_path)\n",
    "zipfile.ZipFile(dest_path + \"base_tabular_20200519_110000.zip\").extract('Municipios_AGSN.xlsx',dest_path)"
   ]
  },
  {
   "cell_type": "code",
   "execution_count": 12,
   "metadata": {},
   "outputs": [
    {
     "data": {
      "text/plain": [
       "['RELATORIO_DTB_BRASIL_DISTRITO.ods',\n",
       " 'RELATORIO_DTB_BRASIL_DISTRITO.xls',\n",
       " 'RELATORIO_DTB_BRASIL_MUNICIPIO.ods',\n",
       " 'RELATORIO_DTB_BRASIL_MUNICIPIO.xls',\n",
       " 'RELATORIO_DTB_BRASIL_SUBDISTRITO.ods',\n",
       " 'RELATORIO_DTB_BRASIL_SUBDISTRITO.xls']"
      ]
     },
     "execution_count": 12,
     "metadata": {},
     "output_type": "execute_result"
    }
   ],
   "source": [
    "### Collecting city and state code data (IBGE, 2022)\n",
    "get_data('https://www.ibge.gov.br/explica/codigos-dos-municipios.php',\n",
    "'https://geoftp.ibge.gov.br/organizacao_do_territorio/estrutura_territorial/divisao_territorial/2022/DTB_2022.zip',\n",
    "\"DTB_2022.zip\")\n"
   ]
  },
  {
   "cell_type": "code",
   "execution_count": 13,
   "metadata": {},
   "outputs": [
    {
     "data": {
      "text/plain": [
       "'C:\\\\Users\\\\sabrina.franca\\\\Documents\\\\tcc\\\\cleaning_data\\\\RELATORIO_DTB_BRASIL_MUNICIPIO.xls'"
      ]
     },
     "execution_count": 13,
     "metadata": {},
     "output_type": "execute_result"
    }
   ],
   "source": [
    "zipfile.ZipFile(dest_path + \"DTB_2022.zip\").extract('RELATORIO_DTB_BRASIL_MUNICIPIO.xls',dest_path)"
   ]
  },
  {
   "cell_type": "code",
   "execution_count": 14,
   "metadata": {},
   "outputs": [
    {
     "data": {
      "text/plain": [
       "['Coordenadas_Sedes_Municipios/',\n",
       " 'Coordenadas_Sedes_Municipios/Codigo_Nome_Municipios.txt',\n",
       " 'Coordenadas_Sedes_Municipios/Sedes_Coordenadas_Municipios.csv']"
      ]
     },
     "execution_count": 14,
     "metadata": {},
     "output_type": "execute_result"
    }
   ],
   "source": [
    "## Collecting latitude and longitude data from municipalities (IBGE)\n",
    "\n",
    "get_data('https://buscalai.cgu.gov.br/PedidosLai/DetalhePedido?id=2051832',\n",
    "\"https://buscalai.cgu.gov.br/PedidosLai/DetalhePedido?idAnexo=1168052&idAws=AnexosManifestacao%2F2051832%2F8cbc10d0-8f03-41e7-ace6-191a34a906c5&fileName=Coordenadas_Sedes_Municipios.zip&idTipoAnexo=2&handler=DownloadFile\",\n",
    "\"Coordenadas_Sedes_Municipios.zip\")\n"
   ]
  },
  {
   "cell_type": "code",
   "execution_count": 16,
   "metadata": {},
   "outputs": [
    {
     "data": {
      "text/plain": [
       "'C:\\\\Users\\\\sabrina.franca\\\\Documents\\\\tcc\\\\cleaning_data\\\\Coordenadas_Sedes_Municipios\\\\Sedes_Coordenadas_Municipios.csv'"
      ]
     },
     "execution_count": 16,
     "metadata": {},
     "output_type": "execute_result"
    }
   ],
   "source": [
    "zipfile.ZipFile(dest_path + \"Coordenadas_Sedes_Municipios.zip\").extract('Coordenadas_Sedes_Municipios/Sedes_Coordenadas_Municipios.csv',dest_path)"
   ]
  },
  {
   "cell_type": "code",
   "execution_count": 17,
   "metadata": {},
   "outputs": [
    {
     "data": {
      "text/plain": [
       "['AGSN_2019/.DS_Store',\n",
       " 'AGSN_2019/AGSN_2019.cpg',\n",
       " 'AGSN_2019/AGSN_2019.dbf',\n",
       " 'AGSN_2019/AGSN_2019.prj',\n",
       " 'AGSN_2019/AGSN_2019.sbn',\n",
       " 'AGSN_2019/AGSN_2019.sbx',\n",
       " 'AGSN_2019/AGSN_2019.shp',\n",
       " 'AGSN_2019/AGSN_2019.shp.xml',\n",
       " 'AGSN_2019/AGSN_2019.shx',\n",
       " 'ESaude_Atencao_Primaria/ESaude_Atencao_Primaria.cpg',\n",
       " 'ESaude_Atencao_Primaria/ESaude_Atencao_Primaria.dbf',\n",
       " 'ESaude_Atencao_Primaria/ESaude_Atencao_Primaria.prj',\n",
       " 'ESaude_Atencao_Primaria/ESaude_Atencao_Primaria.sbn',\n",
       " 'ESaude_Atencao_Primaria/ESaude_Atencao_Primaria.sbx',\n",
       " 'ESaude_Atencao_Primaria/ESaude_Atencao_Primaria.shp',\n",
       " 'ESaude_Atencao_Primaria/ESaude_Atencao_Primaria.shp.xml',\n",
       " 'ESaude_Atencao_Primaria/ESaude_Atencao_Primaria.shx',\n",
       " 'ESaude_Internacao_Observacao/ESaude_Internacao_Observacao.cpg',\n",
       " 'ESaude_Internacao_Observacao/ESaude_Internacao_Observacao.dbf',\n",
       " 'ESaude_Internacao_Observacao/ESaude_Internacao_Observacao.prj',\n",
       " 'ESaude_Internacao_Observacao/ESaude_Internacao_Observacao.sbn',\n",
       " 'ESaude_Internacao_Observacao/ESaude_Internacao_Observacao.sbx',\n",
       " 'ESaude_Internacao_Observacao/ESaude_Internacao_Observacao.shp',\n",
       " 'ESaude_Internacao_Observacao/ESaude_Internacao_Observacao.shp.xml',\n",
       " 'ESaude_Internacao_Observacao/ESaude_Internacao_Observacao.shx']"
      ]
     },
     "execution_count": 17,
     "metadata": {},
     "output_type": "execute_result"
    }
   ],
   "source": [
    "## Collecting data to extract longitude and latitude from Aglomerados subnormais (IBGE)\n",
    "\n",
    "get_data('https://www.ibge.gov.br/geociencias/organizacao-do-territorio/tipologias-do-territorio/15788-aglomerados-subnormais.html?=&t=acesso-ao-produto',\n",
    "'https://geoftp.ibge.gov.br/organizacao_do_territorio/tipologias_do_territorio/aglomerados_subnormais/resultados_preliminares_2019/base_grafica_20200519_110000.zip',\n",
    "'base_grafica_20200519_110000.zip')"
   ]
  },
  {
   "cell_type": "code",
   "execution_count": 18,
   "metadata": {},
   "outputs": [
    {
     "data": {
      "text/plain": [
       "'C:\\\\Users\\\\sabrina.franca\\\\Documents\\\\tcc\\\\cleaning_data\\\\AGSN_2019\\\\AGSN_2019.dbf'"
      ]
     },
     "execution_count": 18,
     "metadata": {},
     "output_type": "execute_result"
    }
   ],
   "source": [
    "zipfile.ZipFile(dest_path + 'base_grafica_20200519_110000.zip').extract('AGSN_2019/AGSN_2019.shp',dest_path)\n",
    "zipfile.ZipFile(dest_path + 'base_grafica_20200519_110000.zip').extract('AGSN_2019/AGSN_2019.shx',dest_path)\n",
    "zipfile.ZipFile(dest_path + 'base_grafica_20200519_110000.zip').extract('AGSN_2019/AGSN_2019.dbf',dest_path)"
   ]
  }
 ],
 "metadata": {
  "kernelspec": {
   "display_name": "Python 3.9.12 64-bit",
   "language": "python",
   "name": "python3"
  },
  "language_info": {
   "codemirror_mode": {
    "name": "ipython",
    "version": 3
   },
   "file_extension": ".py",
   "mimetype": "text/x-python",
   "name": "python",
   "nbconvert_exporter": "python",
   "pygments_lexer": "ipython3",
   "version": "3.9.12"
  },
  "orig_nbformat": 4,
  "vscode": {
   "interpreter": {
    "hash": "c2714a3da4408cb42e93c74de8db2f261daa776500cfaff24cfd67f554c7138f"
   }
  }
 },
 "nbformat": 4,
 "nbformat_minor": 2
}
